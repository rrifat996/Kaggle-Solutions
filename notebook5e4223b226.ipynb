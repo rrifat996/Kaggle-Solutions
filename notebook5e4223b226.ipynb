{
 "cells": [
  {
   "cell_type": "code",
   "execution_count": 1,
   "id": "b058ab17",
   "metadata": {
    "_cell_guid": "b1076dfc-b9ad-4769-8c92-a6c4dae69d19",
    "_uuid": "8f2839f25d086af736a60e9eeb907d3b93b6e0e5",
    "execution": {
     "iopub.execute_input": "2023-01-18T19:45:06.493675Z",
     "iopub.status.busy": "2023-01-18T19:45:06.493149Z",
     "iopub.status.idle": "2023-01-18T19:45:06.506107Z",
     "shell.execute_reply": "2023-01-18T19:45:06.504924Z"
    },
    "papermill": {
     "duration": 0.022937,
     "end_time": "2023-01-18T19:45:06.508880",
     "exception": false,
     "start_time": "2023-01-18T19:45:06.485943",
     "status": "completed"
    },
    "tags": []
   },
   "outputs": [
    {
     "name": "stdout",
     "output_type": "stream",
     "text": [
      "/kaggle/input/titanic/train.csv\n",
      "/kaggle/input/titanic/test.csv\n",
      "/kaggle/input/titanic/gender_submission.csv\n"
     ]
    }
   ],
   "source": [
    "# This Python 3 environment comes with many helpful analytics libraries installed\n",
    "# It is defined by the kaggle/python Docker image: https://github.com/kaggle/docker-python\n",
    "# For example, here's several helpful packages to load\n",
    "\n",
    "import numpy as np # linear algebra\n",
    "import pandas as pd # data processing, CSV file I/O (e.g. pd.read_csv)\n",
    "\n",
    "# Input data files are available in the read-only \"../input/\" directory\n",
    "# For example, running this (by clicking run or pressing Shift+Enter) will list all files under the input directory\n",
    "\n",
    "import os\n",
    "for dirname, _, filenames in os.walk('/kaggle/input'):\n",
    "    for filename in filenames:\n",
    "        print(os.path.join(dirname, filename))\n",
    "\n",
    "# You can write up to 20GB to the current directory (/kaggle/working/) that gets preserved as output when you create a version using \"Save & Run All\" \n",
    "# You can also write temporary files to /kaggle/temp/, but they won't be saved outside of the current session"
   ]
  },
  {
   "cell_type": "code",
   "execution_count": 2,
   "id": "ad081ccc",
   "metadata": {
    "execution": {
     "iopub.execute_input": "2023-01-18T19:45:06.519665Z",
     "iopub.status.busy": "2023-01-18T19:45:06.519289Z",
     "iopub.status.idle": "2023-01-18T19:45:06.565696Z",
     "shell.execute_reply": "2023-01-18T19:45:06.564907Z"
    },
    "papermill": {
     "duration": 0.054329,
     "end_time": "2023-01-18T19:45:06.567739",
     "exception": false,
     "start_time": "2023-01-18T19:45:06.513410",
     "status": "completed"
    },
    "tags": []
   },
   "outputs": [
    {
     "data": {
      "text/html": [
       "<div>\n",
       "<style scoped>\n",
       "    .dataframe tbody tr th:only-of-type {\n",
       "        vertical-align: middle;\n",
       "    }\n",
       "\n",
       "    .dataframe tbody tr th {\n",
       "        vertical-align: top;\n",
       "    }\n",
       "\n",
       "    .dataframe thead th {\n",
       "        text-align: right;\n",
       "    }\n",
       "</style>\n",
       "<table border=\"1\" class=\"dataframe\">\n",
       "  <thead>\n",
       "    <tr style=\"text-align: right;\">\n",
       "      <th></th>\n",
       "      <th>PassengerId</th>\n",
       "      <th>Survived</th>\n",
       "      <th>Pclass</th>\n",
       "      <th>Name</th>\n",
       "      <th>Sex</th>\n",
       "      <th>Age</th>\n",
       "      <th>SibSp</th>\n",
       "      <th>Parch</th>\n",
       "      <th>Ticket</th>\n",
       "      <th>Fare</th>\n",
       "      <th>Cabin</th>\n",
       "      <th>Embarked</th>\n",
       "    </tr>\n",
       "  </thead>\n",
       "  <tbody>\n",
       "    <tr>\n",
       "      <th>0</th>\n",
       "      <td>1</td>\n",
       "      <td>0</td>\n",
       "      <td>3</td>\n",
       "      <td>Braund, Mr. Owen Harris</td>\n",
       "      <td>male</td>\n",
       "      <td>22.0</td>\n",
       "      <td>1</td>\n",
       "      <td>0</td>\n",
       "      <td>A/5 21171</td>\n",
       "      <td>7.2500</td>\n",
       "      <td>NaN</td>\n",
       "      <td>S</td>\n",
       "    </tr>\n",
       "    <tr>\n",
       "      <th>1</th>\n",
       "      <td>2</td>\n",
       "      <td>1</td>\n",
       "      <td>1</td>\n",
       "      <td>Cumings, Mrs. John Bradley (Florence Briggs Th...</td>\n",
       "      <td>female</td>\n",
       "      <td>38.0</td>\n",
       "      <td>1</td>\n",
       "      <td>0</td>\n",
       "      <td>PC 17599</td>\n",
       "      <td>71.2833</td>\n",
       "      <td>C85</td>\n",
       "      <td>C</td>\n",
       "    </tr>\n",
       "    <tr>\n",
       "      <th>2</th>\n",
       "      <td>3</td>\n",
       "      <td>1</td>\n",
       "      <td>3</td>\n",
       "      <td>Heikkinen, Miss. Laina</td>\n",
       "      <td>female</td>\n",
       "      <td>26.0</td>\n",
       "      <td>0</td>\n",
       "      <td>0</td>\n",
       "      <td>STON/O2. 3101282</td>\n",
       "      <td>7.9250</td>\n",
       "      <td>NaN</td>\n",
       "      <td>S</td>\n",
       "    </tr>\n",
       "    <tr>\n",
       "      <th>3</th>\n",
       "      <td>4</td>\n",
       "      <td>1</td>\n",
       "      <td>1</td>\n",
       "      <td>Futrelle, Mrs. Jacques Heath (Lily May Peel)</td>\n",
       "      <td>female</td>\n",
       "      <td>35.0</td>\n",
       "      <td>1</td>\n",
       "      <td>0</td>\n",
       "      <td>113803</td>\n",
       "      <td>53.1000</td>\n",
       "      <td>C123</td>\n",
       "      <td>S</td>\n",
       "    </tr>\n",
       "    <tr>\n",
       "      <th>4</th>\n",
       "      <td>5</td>\n",
       "      <td>0</td>\n",
       "      <td>3</td>\n",
       "      <td>Allen, Mr. William Henry</td>\n",
       "      <td>male</td>\n",
       "      <td>35.0</td>\n",
       "      <td>0</td>\n",
       "      <td>0</td>\n",
       "      <td>373450</td>\n",
       "      <td>8.0500</td>\n",
       "      <td>NaN</td>\n",
       "      <td>S</td>\n",
       "    </tr>\n",
       "  </tbody>\n",
       "</table>\n",
       "</div>"
      ],
      "text/plain": [
       "   PassengerId  Survived  Pclass  \\\n",
       "0            1         0       3   \n",
       "1            2         1       1   \n",
       "2            3         1       3   \n",
       "3            4         1       1   \n",
       "4            5         0       3   \n",
       "\n",
       "                                                Name     Sex   Age  SibSp  \\\n",
       "0                            Braund, Mr. Owen Harris    male  22.0      1   \n",
       "1  Cumings, Mrs. John Bradley (Florence Briggs Th...  female  38.0      1   \n",
       "2                             Heikkinen, Miss. Laina  female  26.0      0   \n",
       "3       Futrelle, Mrs. Jacques Heath (Lily May Peel)  female  35.0      1   \n",
       "4                           Allen, Mr. William Henry    male  35.0      0   \n",
       "\n",
       "   Parch            Ticket     Fare Cabin Embarked  \n",
       "0      0         A/5 21171   7.2500   NaN        S  \n",
       "1      0          PC 17599  71.2833   C85        C  \n",
       "2      0  STON/O2. 3101282   7.9250   NaN        S  \n",
       "3      0            113803  53.1000  C123        S  \n",
       "4      0            373450   8.0500   NaN        S  "
      ]
     },
     "execution_count": 2,
     "metadata": {},
     "output_type": "execute_result"
    }
   ],
   "source": [
    "df = pd.read_csv(\"/kaggle/input/titanic/train.csv\") \n",
    "orig = pd.read_csv(\"/kaggle/input/titanic/test.csv\") \n",
    "df.head()\n"
   ]
  },
  {
   "cell_type": "code",
   "execution_count": 3,
   "id": "6752b4be",
   "metadata": {
    "execution": {
     "iopub.execute_input": "2023-01-18T19:45:06.579020Z",
     "iopub.status.busy": "2023-01-18T19:45:06.577959Z",
     "iopub.status.idle": "2023-01-18T19:45:06.587553Z",
     "shell.execute_reply": "2023-01-18T19:45:06.586613Z"
    },
    "papermill": {
     "duration": 0.017745,
     "end_time": "2023-01-18T19:45:06.590063",
     "exception": false,
     "start_time": "2023-01-18T19:45:06.572318",
     "status": "completed"
    },
    "tags": []
   },
   "outputs": [],
   "source": [
    "df = df.drop(['Name', 'Ticket', 'Fare', 'Embarked', 'Cabin'] , axis = 1)\n"
   ]
  },
  {
   "cell_type": "code",
   "execution_count": 4,
   "id": "a890e864",
   "metadata": {
    "execution": {
     "iopub.execute_input": "2023-01-18T19:45:06.601122Z",
     "iopub.status.busy": "2023-01-18T19:45:06.600744Z",
     "iopub.status.idle": "2023-01-18T19:45:06.615049Z",
     "shell.execute_reply": "2023-01-18T19:45:06.614027Z"
    },
    "papermill": {
     "duration": 0.022777,
     "end_time": "2023-01-18T19:45:06.617462",
     "exception": false,
     "start_time": "2023-01-18T19:45:06.594685",
     "status": "completed"
    },
    "tags": []
   },
   "outputs": [
    {
     "data": {
      "text/html": [
       "<div>\n",
       "<style scoped>\n",
       "    .dataframe tbody tr th:only-of-type {\n",
       "        vertical-align: middle;\n",
       "    }\n",
       "\n",
       "    .dataframe tbody tr th {\n",
       "        vertical-align: top;\n",
       "    }\n",
       "\n",
       "    .dataframe thead th {\n",
       "        text-align: right;\n",
       "    }\n",
       "</style>\n",
       "<table border=\"1\" class=\"dataframe\">\n",
       "  <thead>\n",
       "    <tr style=\"text-align: right;\">\n",
       "      <th></th>\n",
       "      <th>PassengerId</th>\n",
       "      <th>Survived</th>\n",
       "      <th>Pclass</th>\n",
       "      <th>Sex</th>\n",
       "      <th>Age</th>\n",
       "      <th>SibSp</th>\n",
       "      <th>Parch</th>\n",
       "    </tr>\n",
       "  </thead>\n",
       "  <tbody>\n",
       "    <tr>\n",
       "      <th>0</th>\n",
       "      <td>1</td>\n",
       "      <td>0</td>\n",
       "      <td>3</td>\n",
       "      <td>1</td>\n",
       "      <td>22.0</td>\n",
       "      <td>1</td>\n",
       "      <td>0</td>\n",
       "    </tr>\n",
       "    <tr>\n",
       "      <th>1</th>\n",
       "      <td>2</td>\n",
       "      <td>1</td>\n",
       "      <td>1</td>\n",
       "      <td>0</td>\n",
       "      <td>38.0</td>\n",
       "      <td>1</td>\n",
       "      <td>0</td>\n",
       "    </tr>\n",
       "    <tr>\n",
       "      <th>2</th>\n",
       "      <td>3</td>\n",
       "      <td>1</td>\n",
       "      <td>3</td>\n",
       "      <td>0</td>\n",
       "      <td>26.0</td>\n",
       "      <td>0</td>\n",
       "      <td>0</td>\n",
       "    </tr>\n",
       "    <tr>\n",
       "      <th>3</th>\n",
       "      <td>4</td>\n",
       "      <td>1</td>\n",
       "      <td>1</td>\n",
       "      <td>0</td>\n",
       "      <td>35.0</td>\n",
       "      <td>1</td>\n",
       "      <td>0</td>\n",
       "    </tr>\n",
       "    <tr>\n",
       "      <th>4</th>\n",
       "      <td>5</td>\n",
       "      <td>0</td>\n",
       "      <td>3</td>\n",
       "      <td>1</td>\n",
       "      <td>35.0</td>\n",
       "      <td>0</td>\n",
       "      <td>0</td>\n",
       "    </tr>\n",
       "  </tbody>\n",
       "</table>\n",
       "</div>"
      ],
      "text/plain": [
       "   PassengerId  Survived  Pclass  Sex   Age  SibSp  Parch\n",
       "0            1         0       3    1  22.0      1      0\n",
       "1            2         1       1    0  38.0      1      0\n",
       "2            3         1       3    0  26.0      0      0\n",
       "3            4         1       1    0  35.0      1      0\n",
       "4            5         0       3    1  35.0      0      0"
      ]
     },
     "execution_count": 4,
     "metadata": {},
     "output_type": "execute_result"
    }
   ],
   "source": [
    "df = df.replace({'male': 1, 'female': 0})\n",
    "df.head()"
   ]
  },
  {
   "cell_type": "code",
   "execution_count": 5,
   "id": "26a3aca8",
   "metadata": {
    "execution": {
     "iopub.execute_input": "2023-01-18T19:45:06.628537Z",
     "iopub.status.busy": "2023-01-18T19:45:06.628142Z",
     "iopub.status.idle": "2023-01-18T19:45:07.573272Z",
     "shell.execute_reply": "2023-01-18T19:45:07.572305Z"
    },
    "papermill": {
     "duration": 0.953782,
     "end_time": "2023-01-18T19:45:07.576029",
     "exception": false,
     "start_time": "2023-01-18T19:45:06.622247",
     "status": "completed"
    },
    "tags": []
   },
   "outputs": [],
   "source": [
    "from sklearn.linear_model import LogisticRegression\n",
    "from sklearn.metrics import accuracy_score"
   ]
  },
  {
   "cell_type": "code",
   "execution_count": 6,
   "id": "f40ec8dc",
   "metadata": {
    "execution": {
     "iopub.execute_input": "2023-01-18T19:45:07.587442Z",
     "iopub.status.busy": "2023-01-18T19:45:07.587031Z",
     "iopub.status.idle": "2023-01-18T19:45:07.594107Z",
     "shell.execute_reply": "2023-01-18T19:45:07.592989Z"
    },
    "papermill": {
     "duration": 0.015723,
     "end_time": "2023-01-18T19:45:07.596563",
     "exception": false,
     "start_time": "2023-01-18T19:45:07.580840",
     "status": "completed"
    },
    "tags": []
   },
   "outputs": [],
   "source": [
    "model = LogisticRegression()\n",
    "Y = df['Survived']\n",
    "X = df.drop(['Survived'], axis = 1)"
   ]
  },
  {
   "cell_type": "code",
   "execution_count": 7,
   "id": "626888ca",
   "metadata": {
    "execution": {
     "iopub.execute_input": "2023-01-18T19:45:07.607737Z",
     "iopub.status.busy": "2023-01-18T19:45:07.607339Z",
     "iopub.status.idle": "2023-01-18T19:45:07.628294Z",
     "shell.execute_reply": "2023-01-18T19:45:07.627120Z"
    },
    "papermill": {
     "duration": 0.029572,
     "end_time": "2023-01-18T19:45:07.630929",
     "exception": false,
     "start_time": "2023-01-18T19:45:07.601357",
     "status": "completed"
    },
    "tags": []
   },
   "outputs": [
    {
     "name": "stdout",
     "output_type": "stream",
     "text": [
      "<class 'pandas.core.frame.DataFrame'>\n",
      "RangeIndex: 891 entries, 0 to 890\n",
      "Data columns (total 6 columns):\n",
      " #   Column       Non-Null Count  Dtype  \n",
      "---  ------       --------------  -----  \n",
      " 0   PassengerId  891 non-null    int64  \n",
      " 1   Pclass       891 non-null    int64  \n",
      " 2   Sex          891 non-null    int64  \n",
      " 3   Age          891 non-null    float64\n",
      " 4   SibSp        891 non-null    int64  \n",
      " 5   Parch        891 non-null    int64  \n",
      "dtypes: float64(1), int64(5)\n",
      "memory usage: 41.9 KB\n"
     ]
    }
   ],
   "source": [
    "fillval = X['Age'].median()\n",
    "X['Age'].fillna(fillval,inplace=True)\n",
    "X.info()"
   ]
  },
  {
   "cell_type": "code",
   "execution_count": 8,
   "id": "081c45c0",
   "metadata": {
    "execution": {
     "iopub.execute_input": "2023-01-18T19:45:07.642149Z",
     "iopub.status.busy": "2023-01-18T19:45:07.641739Z",
     "iopub.status.idle": "2023-01-18T19:45:07.688476Z",
     "shell.execute_reply": "2023-01-18T19:45:07.687072Z"
    },
    "papermill": {
     "duration": 0.055263,
     "end_time": "2023-01-18T19:45:07.691058",
     "exception": false,
     "start_time": "2023-01-18T19:45:07.635795",
     "status": "completed"
    },
    "tags": []
   },
   "outputs": [
    {
     "name": "stderr",
     "output_type": "stream",
     "text": [
      "/opt/conda/lib/python3.7/site-packages/sklearn/linear_model/_logistic.py:818: ConvergenceWarning: lbfgs failed to converge (status=1):\n",
      "STOP: TOTAL NO. of ITERATIONS REACHED LIMIT.\n",
      "\n",
      "Increase the number of iterations (max_iter) or scale the data as shown in:\n",
      "    https://scikit-learn.org/stable/modules/preprocessing.html\n",
      "Please also refer to the documentation for alternative solver options:\n",
      "    https://scikit-learn.org/stable/modules/linear_model.html#logistic-regression\n",
      "  extra_warning_msg=_LOGISTIC_SOLVER_CONVERGENCE_MSG,\n"
     ]
    },
    {
     "data": {
      "text/plain": [
       "LogisticRegression()"
      ]
     },
     "execution_count": 8,
     "metadata": {},
     "output_type": "execute_result"
    }
   ],
   "source": [
    "model.fit(X,Y)"
   ]
  },
  {
   "cell_type": "code",
   "execution_count": 9,
   "id": "f5db840a",
   "metadata": {
    "execution": {
     "iopub.execute_input": "2023-01-18T19:45:07.703042Z",
     "iopub.status.busy": "2023-01-18T19:45:07.702125Z",
     "iopub.status.idle": "2023-01-18T19:45:07.715380Z",
     "shell.execute_reply": "2023-01-18T19:45:07.714223Z"
    },
    "papermill": {
     "duration": 0.021942,
     "end_time": "2023-01-18T19:45:07.718004",
     "exception": false,
     "start_time": "2023-01-18T19:45:07.696062",
     "status": "completed"
    },
    "tags": []
   },
   "outputs": [],
   "source": [
    "test =pd.read_csv(\"/kaggle/input/titanic/test.csv\") \n",
    "test = test.drop(['Name', 'Ticket', 'Fare', 'Embarked', 'Cabin'] , axis = 1)\n",
    "test = test.replace({'male': 1, 'female': 0})\n",
    "fillval2 = test['Age'].median()\n",
    "test['Age'].fillna(fillval2,inplace=True)"
   ]
  },
  {
   "cell_type": "code",
   "execution_count": 10,
   "id": "ce9e054e",
   "metadata": {
    "execution": {
     "iopub.execute_input": "2023-01-18T19:45:07.729773Z",
     "iopub.status.busy": "2023-01-18T19:45:07.729026Z",
     "iopub.status.idle": "2023-01-18T19:45:07.740580Z",
     "shell.execute_reply": "2023-01-18T19:45:07.739550Z"
    },
    "papermill": {
     "duration": 0.020125,
     "end_time": "2023-01-18T19:45:07.743088",
     "exception": false,
     "start_time": "2023-01-18T19:45:07.722963",
     "status": "completed"
    },
    "tags": []
   },
   "outputs": [],
   "source": [
    "sub = model.predict(test)\n",
    "df2 = pd.DataFrame(sub, columns = ['Survived'])\n",
    "df2 = pd.concat([orig['PassengerId'], df2], axis = 1)\n",
    "df2.to_csv('submission.csv', index = False)"
   ]
  },
  {
   "cell_type": "code",
   "execution_count": null,
   "id": "9c1fa45f",
   "metadata": {
    "papermill": {
     "duration": 0.004528,
     "end_time": "2023-01-18T19:45:07.753117",
     "exception": false,
     "start_time": "2023-01-18T19:45:07.748589",
     "status": "completed"
    },
    "tags": []
   },
   "outputs": [],
   "source": []
  },
  {
   "cell_type": "code",
   "execution_count": null,
   "id": "616931e3",
   "metadata": {
    "papermill": {
     "duration": 0.004557,
     "end_time": "2023-01-18T19:45:07.762601",
     "exception": false,
     "start_time": "2023-01-18T19:45:07.758044",
     "status": "completed"
    },
    "tags": []
   },
   "outputs": [],
   "source": []
  },
  {
   "cell_type": "code",
   "execution_count": null,
   "id": "ef330a50",
   "metadata": {
    "papermill": {
     "duration": 0.004438,
     "end_time": "2023-01-18T19:45:07.771885",
     "exception": false,
     "start_time": "2023-01-18T19:45:07.767447",
     "status": "completed"
    },
    "tags": []
   },
   "outputs": [],
   "source": []
  },
  {
   "cell_type": "code",
   "execution_count": null,
   "id": "ad2526a4",
   "metadata": {
    "papermill": {
     "duration": 0.004476,
     "end_time": "2023-01-18T19:45:07.781167",
     "exception": false,
     "start_time": "2023-01-18T19:45:07.776691",
     "status": "completed"
    },
    "tags": []
   },
   "outputs": [],
   "source": []
  },
  {
   "cell_type": "code",
   "execution_count": null,
   "id": "2a48515a",
   "metadata": {
    "papermill": {
     "duration": 0.005516,
     "end_time": "2023-01-18T19:45:07.791275",
     "exception": false,
     "start_time": "2023-01-18T19:45:07.785759",
     "status": "completed"
    },
    "tags": []
   },
   "outputs": [],
   "source": []
  },
  {
   "cell_type": "code",
   "execution_count": null,
   "id": "70a56258",
   "metadata": {
    "papermill": {
     "duration": 0.004543,
     "end_time": "2023-01-18T19:45:07.800610",
     "exception": false,
     "start_time": "2023-01-18T19:45:07.796067",
     "status": "completed"
    },
    "tags": []
   },
   "outputs": [],
   "source": []
  }
 ],
 "metadata": {
  "kernelspec": {
   "display_name": "Python 3",
   "language": "python",
   "name": "python3"
  },
  "language_info": {
   "codemirror_mode": {
    "name": "ipython",
    "version": 3
   },
   "file_extension": ".py",
   "mimetype": "text/x-python",
   "name": "python",
   "nbconvert_exporter": "python",
   "pygments_lexer": "ipython3",
   "version": "3.7.12"
  },
  "papermill": {
   "default_parameters": {},
   "duration": 10.119691,
   "end_time": "2023-01-18T19:45:08.526831",
   "environment_variables": {},
   "exception": null,
   "input_path": "__notebook__.ipynb",
   "output_path": "__notebook__.ipynb",
   "parameters": {},
   "start_time": "2023-01-18T19:44:58.407140",
   "version": "2.3.4"
  }
 },
 "nbformat": 4,
 "nbformat_minor": 5
}
